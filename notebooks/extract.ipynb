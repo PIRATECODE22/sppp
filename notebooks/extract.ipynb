{
 "cells": [
  {
   "cell_type": "code",
   "execution_count": 24,
   "metadata": {},
   "outputs": [
    {
     "data": {
      "text/plain": [
       "Index(['https://mtarchive.geol.iastate.edu/2022/06/01/mrms/ncep/ProbSevere/MRMS_PROBSEVERE_20220601_000000.json',\n",
       "       'https://mtarchive.geol.iastate.edu/2022/06/01/mrms/ncep/ProbSevere/MRMS_PROBSEVERE_20220601_000200.json',\n",
       "       'https://mtarchive.geol.iastate.edu/2022/06/01/mrms/ncep/ProbSevere/MRMS_PROBSEVERE_20220601_000400.json',\n",
       "       'https://mtarchive.geol.iastate.edu/2022/06/01/mrms/ncep/ProbSevere/MRMS_PROBSEVERE_20220601_000600.json',\n",
       "       'https://mtarchive.geol.iastate.edu/2022/06/01/mrms/ncep/ProbSevere/MRMS_PROBSEVERE_20220601_000800.json',\n",
       "       'https://mtarchive.geol.iastate.edu/2022/06/01/mrms/ncep/ProbSevere/MRMS_PROBSEVERE_20220601_001000.json',\n",
       "       'https://mtarchive.geol.iastate.edu/2022/06/01/mrms/ncep/ProbSevere/MRMS_PROBSEVERE_20220601_001200.json',\n",
       "       'https://mtarchive.geol.iastate.edu/2022/06/01/mrms/ncep/ProbSevere/MRMS_PROBSEVERE_20220601_001400.json',\n",
       "       'https://mtarchive.geol.iastate.edu/2022/06/01/mrms/ncep/ProbSevere/MRMS_PROBSEVERE_20220601_001600.json',\n",
       "       'https://mtarchive.geol.iastate.edu/2022/06/01/mrms/ncep/ProbSevere/MRMS_PROBSEVERE_20220601_001800.json',\n",
       "       ...\n",
       "       'https://mtarchive.geol.iastate.edu/2022/06/14/mrms/ncep/ProbSevere/MRMS_PROBSEVERE_20220614_234200.json',\n",
       "       'https://mtarchive.geol.iastate.edu/2022/06/14/mrms/ncep/ProbSevere/MRMS_PROBSEVERE_20220614_234400.json',\n",
       "       'https://mtarchive.geol.iastate.edu/2022/06/14/mrms/ncep/ProbSevere/MRMS_PROBSEVERE_20220614_234600.json',\n",
       "       'https://mtarchive.geol.iastate.edu/2022/06/14/mrms/ncep/ProbSevere/MRMS_PROBSEVERE_20220614_234800.json',\n",
       "       'https://mtarchive.geol.iastate.edu/2022/06/14/mrms/ncep/ProbSevere/MRMS_PROBSEVERE_20220614_235000.json',\n",
       "       'https://mtarchive.geol.iastate.edu/2022/06/14/mrms/ncep/ProbSevere/MRMS_PROBSEVERE_20220614_235200.json',\n",
       "       'https://mtarchive.geol.iastate.edu/2022/06/14/mrms/ncep/ProbSevere/MRMS_PROBSEVERE_20220614_235400.json',\n",
       "       'https://mtarchive.geol.iastate.edu/2022/06/14/mrms/ncep/ProbSevere/MRMS_PROBSEVERE_20220614_235600.json',\n",
       "       'https://mtarchive.geol.iastate.edu/2022/06/14/mrms/ncep/ProbSevere/MRMS_PROBSEVERE_20220614_235800.json',\n",
       "       'https://mtarchive.geol.iastate.edu/2022/06/15/mrms/ncep/ProbSevere/MRMS_PROBSEVERE_20220615_000000.json'],\n",
       "      dtype='object', length=10081)"
      ]
     },
     "execution_count": 24,
     "metadata": {},
     "output_type": "execute_result"
    }
   ],
   "source": [
    "import pandas as pd\n",
    "template  = \"https://mtarchive.geol.iastate.edu/%Y/%m/%d/mrms/ncep/ProbSevere/MRMS_PROBSEVERE_%Y%m%d_%H%M00.json\"\n",
    "urls = pd.date_range(start=\"2022-06-01T00:00:00Z\", end=\"2022-06-15T00:00:00Z\", freq=\"2min\").strftime(template)\n"
   ]
  }
 ],
 "metadata": {
  "kernelspec": {
   "display_name": "Python 3.10.4 ('venv')",
   "language": "python",
   "name": "python3"
  },
  "language_info": {
   "codemirror_mode": {
    "name": "ipython",
    "version": 3
   },
   "file_extension": ".py",
   "mimetype": "text/x-python",
   "name": "python",
   "nbconvert_exporter": "python",
   "pygments_lexer": "ipython3",
   "version": "3.10.4"
  },
  "orig_nbformat": 4,
  "vscode": {
   "interpreter": {
    "hash": "23393d2575091a37cff0d0e9e7479591a295495b26c3b2ebf9b64da572e02d85"
   }
  }
 },
 "nbformat": 4,
 "nbformat_minor": 2
}
